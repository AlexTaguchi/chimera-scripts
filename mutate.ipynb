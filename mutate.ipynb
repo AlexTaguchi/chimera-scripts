{
 "cells": [
  {
   "cell_type": "markdown",
   "metadata": {},
   "source": [
    "# <i>Create Mutant</i>\n",
    "### Given [1] a directory of pdb files and [2] residue mutations:\n",
    "- Mutate the residues\n",
    "- Minimize the structure\n",
    "- Save the pdbs to a new \"output\" directory"
   ]
  },
  {
   "cell_type": "code",
   "execution_count": 19,
   "metadata": {},
   "outputs": [],
   "source": [
    "import os\n",
    "import subprocess"
   ]
  },
  {
   "cell_type": "markdown",
   "metadata": {},
   "source": [
    "### Set directory and residue numbers"
   ]
  },
  {
   "cell_type": "code",
   "execution_count": 29,
   "metadata": {},
   "outputs": [],
   "source": [
    "# DIRECTORY = '/Users/alexandertaguchi/Desktop/slink_no_helix/'\n",
    "DIRECTORY = '/Users/alexandertaguchi/Desktop/slink_helix/'\n",
    "# NAME = '36-38_53-55'\n",
    "NAME = '41-45_139-145'\n",
    "# RESIDUES = {18:'THR', 16:'SER', 4:'SER'}\n",
    "RESIDUES = {4:'LEU', 6:'VAL', 8:'THR', 14:'THR', 16:'ARG', 18:'GLU'}"
   ]
  },
  {
   "cell_type": "markdown",
   "metadata": {},
   "source": [
    "### Generate chimera script"
   ]
  },
  {
   "cell_type": "code",
   "execution_count": 30,
   "metadata": {},
   "outputs": [],
   "source": [
    "# Paths to pdbs and output directory\n",
    "pdbs = [x for x in os.listdir(DIRECTORY) if x[-4:] == '.pdb']\n",
    "if not os.path.isdir(DIRECTORY + 'output'):\n",
    "    os.mkdir(DIRECTORY + 'output')\n",
    "\n",
    "# Write command script to file\n",
    "with open(DIRECTORY + 'mutate.cmd', 'w') as file:\n",
    "    file.write('#\\n# Chimera command script to mutate peptide\\n#\\n')\n",
    "    \n",
    "    # Mutate residues\n",
    "    mutate = ''.join([f'swapaa {value} #0:{key};\\n' for key, value in RESIDUES.items()])\n",
    "    \n",
    "    # Loop over pdbs\n",
    "    for pdb in pdbs:\n",
    "        file.write(f'open {DIRECTORY + pdb};\\n')\n",
    "        file.write(mutate)\n",
    "        file.write(f'minimize spec #0 nogui true\\n'\n",
    "                   f'write #0 {DIRECTORY}output/{pdb[:-4]}_{NAME}.pdb\\n'\n",
    "                   f'close #0\\n')"
   ]
  },
  {
   "cell_type": "markdown",
   "metadata": {},
   "source": [
    "### Run Chimera"
   ]
  },
  {
   "cell_type": "code",
   "execution_count": 31,
   "metadata": {},
   "outputs": [
    {
     "data": {
      "text/plain": [
       "0"
      ]
     },
     "execution_count": 31,
     "metadata": {},
     "output_type": "execute_result"
    }
   ],
   "source": [
    "subprocess.call(['chimera', '--nogui', DIRECTORY + 'mutate.cmd'])"
   ]
  },
  {
   "cell_type": "code",
   "execution_count": null,
   "metadata": {},
   "outputs": [],
   "source": []
  }
 ],
 "metadata": {
  "kernelspec": {
   "display_name": "Python 3",
   "language": "python",
   "name": "python3"
  },
  "language_info": {
   "codemirror_mode": {
    "name": "ipython",
    "version": 3
   },
   "file_extension": ".py",
   "mimetype": "text/x-python",
   "name": "python",
   "nbconvert_exporter": "python",
   "pygments_lexer": "ipython3",
   "version": "3.7.3"
  }
 },
 "nbformat": 4,
 "nbformat_minor": 2
}
