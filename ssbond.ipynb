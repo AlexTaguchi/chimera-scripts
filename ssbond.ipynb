{
 "cells": [
  {
   "cell_type": "markdown",
   "metadata": {},
   "source": [
    "# <i>Create Disulfide Bond</i>\n",
    "### Given [1] a directory of pdb files and [2] two residue numbers:\n",
    "- Mutate the residues to cysteines\n",
    "- Create a bond between the sulfur atoms\n",
    "- Minimize the structure\n",
    "- Save the pdbs in a new \"output\" directory\n",
    "- Clean pdbs by converting \"CONNECT\" lines to \"SSBOND\""
   ]
  },
  {
   "cell_type": "code",
   "execution_count": null,
   "metadata": {},
   "outputs": [],
   "source": []
  }
 ],
 "metadata": {
  "kernelspec": {
   "display_name": "Python 3",
   "language": "python",
   "name": "python3"
  },
  "language_info": {
   "codemirror_mode": {
    "name": "ipython",
    "version": 3
   },
   "file_extension": ".py",
   "mimetype": "text/x-python",
   "name": "python",
   "nbconvert_exporter": "python",
   "pygments_lexer": "ipython3",
   "version": "3.7.3"
  }
 },
 "nbformat": 4,
 "nbformat_minor": 2
}
