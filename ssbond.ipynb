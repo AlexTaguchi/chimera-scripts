{
 "cells": [
  {
   "cell_type": "markdown",
   "metadata": {},
   "source": [
    "# <i>Create Disulfide Cross-Link</i>\n",
    "### Given [1] a directory of pdb files and [2] two residue numbers:\n",
    "- Mutate the residues to cysteines\n",
    "- Create a bond between the sulfur atoms\n",
    "- Minimize the structure\n",
    "- Save the pdbs to a new \"output\" directory\n",
    "- Add \"SSBOND\" line to pdb"
   ]
  },
  {
   "cell_type": "code",
   "execution_count": 1,
   "metadata": {},
   "outputs": [],
   "source": [
    "import os\n",
    "import subprocess"
   ]
  },
  {
   "cell_type": "markdown",
   "metadata": {},
   "source": [
    "### Set directory and residue numbers"
   ]
  },
  {
   "cell_type": "code",
   "execution_count": 2,
   "metadata": {},
   "outputs": [],
   "source": [
    "DIRECTORY = '/Users/alexandertaguchi/Desktop/slink_no_helix/'\n",
    "RESIDUES = (1, 21)"
   ]
  },
  {
   "cell_type": "markdown",
   "metadata": {},
   "source": [
    "### Generate chimera script"
   ]
  },
  {
   "cell_type": "code",
   "execution_count": 3,
   "metadata": {},
   "outputs": [],
   "source": [
    "# Paths to pdbs and output directory\n",
    "pdbs = [x for x in os.listdir(DIRECTORY) if x[-4:] == '.pdb']\n",
    "if not os.path.isdir(DIRECTORY + 'output'):\n",
    "    os.mkdir(DIRECTORY + 'output')\n",
    "\n",
    "# Write command script to file\n",
    "with open(DIRECTORY + 'ssbond.cmd', 'w') as file:\n",
    "    file.write('#\\n# Chimera command script to create disulfide bond\\n#\\n')\n",
    "    \n",
    "    # Loop over pdbs\n",
    "    for pdb in pdbs:\n",
    "        file.write(f'open {DIRECTORY + pdb};\\n'\n",
    "                   f'swapaa CYS #0:{RESIDUES[0]};\\n'\n",
    "                   f'bond #0:{RESIDUES[0]}@SG #0:{RESIDUES[1]}@SG\\n'\n",
    "                   f'minimize spec #0 nogui true\\n'\n",
    "                   f'~bond #0:{RESIDUES[0]}@SG #0:{RESIDUES[1]}@SG\\n'\n",
    "                   f'write #0 {DIRECTORY}output/{pdb[:-4]}_ss.pdb\\n'\n",
    "                   f'close #0\\n')"
   ]
  },
  {
   "cell_type": "markdown",
   "metadata": {},
   "source": [
    "### Run Chimera"
   ]
  },
  {
   "cell_type": "code",
   "execution_count": 4,
   "metadata": {},
   "outputs": [
    {
     "data": {
      "text/plain": [
       "0"
      ]
     },
     "execution_count": 4,
     "metadata": {},
     "output_type": "execute_result"
    }
   ],
   "source": [
    "subprocess.call(['chimera', '--nogui', DIRECTORY + 'ssbond.cmd'])"
   ]
  },
  {
   "cell_type": "markdown",
   "metadata": {},
   "source": [
    "### Add SSBOND"
   ]
  },
  {
   "cell_type": "code",
   "execution_count": 7,
   "metadata": {},
   "outputs": [],
   "source": [
    "for pdb in [x for x in os.listdir(DIRECTORY + 'output') if x[-7:] == '_ss.pdb']:\n",
    "\n",
    "    # Retrieve pdb contents\n",
    "    with open(DIRECTORY + 'output/' + pdb, 'r') as file:\n",
    "        contents = file.readlines()\n",
    "    \n",
    "    # Insert SSBOND line\n",
    "    index = [x.split()[0] for x in contents].index('ATOM')\n",
    "    contents.insert(index, f'SSBOND CYS A {RESIDUES[0]} CYS A {RESIDUES[1]} 2.05\\n')\n",
    "    contents = \"\".join(contents)\n",
    "\n",
    "    # Overwrite pdb file\n",
    "    with open(DIRECTORY + 'output/' + pdb, 'w') as file:\n",
    "        file.write(contents)"
   ]
  },
  {
   "cell_type": "code",
   "execution_count": null,
   "metadata": {},
   "outputs": [],
   "source": []
  }
 ],
 "metadata": {
  "kernelspec": {
   "display_name": "Python 3",
   "language": "python",
   "name": "python3"
  },
  "language_info": {
   "codemirror_mode": {
    "name": "ipython",
    "version": 3
   },
   "file_extension": ".py",
   "mimetype": "text/x-python",
   "name": "python",
   "nbconvert_exporter": "python",
   "pygments_lexer": "ipython3",
   "version": "3.7.3"
  }
 },
 "nbformat": 4,
 "nbformat_minor": 2
}
